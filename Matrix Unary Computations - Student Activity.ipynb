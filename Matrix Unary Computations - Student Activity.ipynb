{
 "cells": [
  {
   "cell_type": "code",
   "execution_count": 1,
   "id": "54874e8c-693c-47ae-88f3-e2dec89428c0",
   "metadata": {},
   "outputs": [
    {
     "name": "stdout",
     "output_type": "stream",
     "text": [
      "Matrix A:\n",
      " [[1 2 3]\n",
      " [4 5 6]\n",
      " [7 8 9]]\n",
      "\n",
      "Transpose of Matrix A:\n",
      " [[1 4 7]\n",
      " [2 5 8]\n",
      " [3 6 9]]\n"
     ]
    }
   ],
   "source": [
    "import numpy as np\n",
    "\n",
    "# Create a 3x3 matrix\n",
    "matrix_A = np.array([[1, 2, 3],\n",
    "                     [4, 5, 6],\n",
    "                     [7, 8, 9]])\n",
    "\n",
    "# Find the transpose\n",
    "transpose_A = matrix_A.T\n",
    "\n",
    "print(\"Matrix A:\\n\", matrix_A)\n",
    "print(\"\\nTranspose of Matrix A:\\n\", transpose_A)\n",
    "\n",
    "\n"
   ]
  },
  {
   "cell_type": "code",
   "execution_count": 2,
   "id": "80ee0889-6ad2-406e-93bc-aa735da11de9",
   "metadata": {},
   "outputs": [
    {
     "name": "stdout",
     "output_type": "stream",
     "text": [
      "\n",
      "Is Matrix A symmetric?  False\n"
     ]
    }
   ],
   "source": [
    "# Check if the matrix is symmetric\n",
    "is_symmetric = (matrix_A == matrix_A.T).all()\n",
    "print(\"\\nIs Matrix A symmetric? \", is_symmetric)"
   ]
  },
  {
   "cell_type": "code",
   "execution_count": 3,
   "id": "a0ed57b6-a2cf-4de6-b32b-f3328550bc47",
   "metadata": {},
   "outputs": [
    {
     "name": "stdout",
     "output_type": "stream",
     "text": [
      "Random Matrix:\n",
      " [[5 5 7 9]\n",
      " [5 1 9 1]\n",
      " [8 2 7 7]\n",
      " [1 6 6 5]]\n",
      "\n",
      "Is the random matrix symmetric?  False\n"
     ]
    }
   ],
   "source": [
    "# Your solution here\n",
    "random_matrix = np.random.randint(1, 10, (4, 4))\n",
    "transpose_random = random_matrix.T\n",
    "\n",
    "# Check symmetry\n",
    "is_symmetric_random = (random_matrix == transpose_random).all()\n",
    "print(\"Random Matrix:\\n\", random_matrix)\n",
    "print(\"\\nIs the random matrix symmetric? \", is_symmetric_random)\n"
   ]
  },
  {
   "cell_type": "code",
   "execution_count": 4,
   "id": "4052b910-82c4-4c36-b659-b93235e4d14a",
   "metadata": {},
   "outputs": [
    {
     "name": "stdout",
     "output_type": "stream",
     "text": [
      "\n",
      "Trace of Matrix A: 15\n"
     ]
    }
   ],
   "source": [
    "# Calculate the trace of matrix_A\n",
    "trace_A = np.trace(matrix_A)\n",
    "print(\"\\nTrace of Matrix A:\", trace_A)\n"
   ]
  },
  {
   "cell_type": "markdown",
   "id": "bf981bb9-2ae9-48a0-a4ef-2972e142d5b3",
   "metadata": {},
   "source": [
    "# What is the trace of the following matrix?"
   ]
  },
  {
   "cell_type": "code",
   "execution_count": 7,
   "id": "de5f0685-12b9-45d5-8785-df2d5b6a364c",
   "metadata": {},
   "outputs": [
    {
     "name": "stdout",
     "output_type": "stream",
     "text": [
      "Trace of Matrix B: 31\n"
     ]
    }
   ],
   "source": [
    "matrix_B = np.array([\n",
    "    [10, 20, 30],\n",
    "    [5, 15, 25],\n",
    "    [2, 4, 6]\n",
    "])\n",
    "\n",
    "\n",
    "trace_B = np.trace(matrix_B)\n",
    "\n",
    "\n",
    "print(\"Trace of Matrix B:\", trace_B)"
   ]
  },
  {
   "cell_type": "markdown",
   "id": "85a0032a-fca5-4fe4-87e7-58334e51433b",
   "metadata": {},
   "source": [
    "# Find the trace of a 5×5 identity matrix."
   ]
  },
  {
   "cell_type": "code",
   "execution_count": 25,
   "id": "c3f7dcb3-c213-4b64-886d-6eaa08c5c731",
   "metadata": {},
   "outputs": [
    {
     "name": "stdout",
     "output_type": "stream",
     "text": [
      "5x5 Matrix:\n",
      " [[10 20 30 40 50]\n",
      " [ 5 15 25 30 35]\n",
      " [ 2  4  6  8 10]\n",
      " [ 3  6  9 12 15]\n",
      " [ 4  8 12 16 20]]\n",
      "Trace of the 5x5 identity matrix: 63\n"
     ]
    }
   ],
   "source": [
    "\n",
    "Matrix_A = np.array([\n",
    "    [10, 20, 30, 40, 50],\n",
    "    [5, 15, 25, 30, 35],\n",
    "    [2, 4, 6, 8, 10],\n",
    "    [3,6,9,12,15],\n",
    "    [4,8,12,16,20]\n",
    "    \n",
    "])\n",
    "\n",
    "trace_matrix = np.trace(Matrix_A)\n",
    "\n",
    "print(\"5x5 Matrix:\\n\", Matrix_A)\n",
    "\n",
    "print(\"Trace of the 5x5 identity matrix:\", trace_matrix)\n",
    "\n"
   ]
  },
  {
   "cell_type": "markdown",
   "id": "40d0fc18-78f7-452b-9b83-a28db3b183b8",
   "metadata": {},
   "source": [
    "# Compute the determinant of the following 3×3 matrix using NumPy:\n"
   ]
  },
  {
   "cell_type": "code",
   "execution_count": 27,
   "id": "07a7f86a-bee6-4192-b5ff-fb184766640c",
   "metadata": {},
   "outputs": [
    {
     "name": "stdout",
     "output_type": "stream",
     "text": [
      "Determinant of Matrix D: 22\n"
     ]
    }
   ],
   "source": [
    "\n",
    "matrix_D = np.array([\n",
    "    [1, 2, 3],\n",
    "    [0, 4, 5],\n",
    "    [1, 0, 6]\n",
    "])\n",
    "\n",
    "\n",
    "M_11 = np.array([[4, 5], [0, 6]])  \n",
    "M_12 = np.array([[0, 5], [1, 6]])  \n",
    "M_13 = np.array([[0, 4], [1, 0]]) \n",
    "\n",
    "det_M11 = (M_11[0, 0] * M_11[1, 1]) - (M_11[0, 1] * M_11[1, 0])\n",
    "det_M12 = (M_12[0, 0] * M_12[1, 1]) - (M_12[0, 1] * M_12[1, 0])\n",
    "det_M13 = (M_13[0, 0] * M_13[1, 1]) - (M_13[0, 1] * M_13[1, 0])\n",
    "\n",
    "\n",
    "det_D = (matrix_D[0, 0] * det_M11) - (matrix_D[0, 1] * det_M12) + (matrix_D[0, 2] * det_M13)\n",
    "\n",
    "\n",
    "print(\"Determinant of Matrix D:\", det_D)\n"
   ]
  },
  {
   "cell_type": "markdown",
   "id": "076767a5-e6ee-4c48-aa50-b62c159b11f2",
   "metadata": {},
   "source": [
    "# Practice Problem 4: Application in Computer Science"
   ]
  },
  {
   "cell_type": "code",
   "execution_count": 34,
   "id": "312e51f4-513a-4e4a-9cca-82816e1c2464",
   "metadata": {},
   "outputs": [
    {
     "name": "stdout",
     "output_type": "stream",
     "text": [
      "Transpose of the Resultant Matrix: [[517149 568806 613535]\n",
      " [540342 623861 696904]\n",
      " [474896 373315 468859]]\n",
      "Determinant of the Resultant Matrix: 2859662904765633.5\n"
     ]
    }
   ],
   "source": [
    "matrix_3x33 = np.random.randint(0, 256, size=(3, 33))\n",
    "matrix_33x3 = np.random.randint(0, 256, size=(33, 3))\n",
    "\n",
    "# Perform matrix multiplication\n",
    "resultant_matrix = np.dot(matrix_3x33, matrix_33x3)\n",
    "\n",
    "# Transpose and determinant\n",
    "transpose = np.transpose(resultant_matrix)\n",
    "determinant = np.linalg.det(resultant_matrix)\n",
    "\n",
    "print(\"Transpose of the Resultant Matrix:\", transpose)\n",
    "\n",
    "\n",
    "print(\"Determinant of the Resultant Matrix:\",determinant)\n"
   ]
  },
  {
   "cell_type": "markdown",
   "id": "4497dbda-ed2b-4b19-8648-6e640c382e01",
   "metadata": {},
   "source": [
    "# Practice Problem 5: Symmetric Matrices in Machine Learning"
   ]
  },
  {
   "cell_type": "code",
   "execution_count": 36,
   "id": "1a292d83-a5ce-4fd7-9abd-e7b6c6a44ec4",
   "metadata": {},
   "outputs": [
    {
     "ename": "NameError",
     "evalue": "name 'is_symmetricprint' is not defined",
     "output_type": "error",
     "traceback": [
      "\u001b[1;31m---------------------------------------------------------------------------\u001b[0m",
      "\u001b[1;31mNameError\u001b[0m                                 Traceback (most recent call last)",
      "Cell \u001b[1;32mIn[36], line 7\u001b[0m\n\u001b[0;32m      4\u001b[0m \u001b[38;5;66;03m# Verify symmetric properties\u001b[39;00m\n\u001b[0;32m      5\u001b[0m is_symmetric \u001b[38;5;241m=\u001b[39m np\u001b[38;5;241m.\u001b[39marray_equal(symmetric_matrix, symmetric_matrix\u001b[38;5;241m.\u001b[39mT)\n\u001b[1;32m----> 7\u001b[0m symmetric_matrix, is_symmetricprint(\u001b[38;5;124m\"\u001b[39m\u001b[38;5;130;01m\\n\u001b[39;00m\u001b[38;5;124mPractice Problem 5: Symmetric Matrix:\u001b[39m\u001b[38;5;124m\"\u001b[39m)\n\u001b[0;32m      8\u001b[0m \u001b[38;5;28mprint\u001b[39m(symmetric_matrix)\n\u001b[0;32m     10\u001b[0m \u001b[38;5;28mprint\u001b[39m(\u001b[38;5;124m\"\u001b[39m\u001b[38;5;130;01m\\n\u001b[39;00m\u001b[38;5;124mPractice Problem 5: Is the matrix symmetric?\u001b[39m\u001b[38;5;124m\"\u001b[39m)\n",
      "\u001b[1;31mNameError\u001b[0m: name 'is_symmetricprint' is not defined"
     ]
    }
   ],
   "source": [
    "matrix = np.random.randint(0, 100, size=(3, 3))\n",
    "symmetric_matrix = (matrix + matrix.T) // 2\n",
    "\n",
    "# Verify symmetric properties\n",
    "is_symmetric = np.array_equal(symmetric_matrix, symmetric_matrix.T)\n",
    "\n",
    "symmetric_matrix, is_symmetricprint\n",
    "(\"\\nPractice Problem 5: Symmetric Matrix:\",symmetric_matrix)\n",
    "print)\n",
    "\n",
    "print(\"\\nPractice Problem 5: Is the matrix symmetric?\")\n",
    "print(is_symmetric)"
   ]
  },
  {
   "cell_type": "code",
   "execution_count": null,
   "id": "3ca09544-8f70-439d-8a07-3fcda94bb199",
   "metadata": {},
   "outputs": [],
   "source": []
  },
  {
   "cell_type": "code",
   "execution_count": null,
   "id": "f2e42d1a-0b8d-4893-a7a4-7c88ec99cccb",
   "metadata": {},
   "outputs": [],
   "source": []
  }
 ],
 "metadata": {
  "kernelspec": {
   "display_name": "Python 3 (ipykernel)",
   "language": "python",
   "name": "python3"
  },
  "language_info": {
   "codemirror_mode": {
    "name": "ipython",
    "version": 3
   },
   "file_extension": ".py",
   "mimetype": "text/x-python",
   "name": "python",
   "nbconvert_exporter": "python",
   "pygments_lexer": "ipython3",
   "version": "3.12.7"
  }
 },
 "nbformat": 4,
 "nbformat_minor": 5
}
